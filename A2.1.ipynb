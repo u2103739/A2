{
 "cells": [
  {
   "cell_type": "code",
   "execution_count": 16,
   "id": "8273a611",
   "metadata": {},
   "outputs": [
    {
     "data": {
      "image/png": "[encoded data removed]",
      "text/plain": [
       "<Figure size 432x288 with 1 Axes>"
      ]
     },
     "metadata": {
      "needs_background": "light"
     },
     "output_type": "display_data"
    }
   ],
   "source": [
    "\n",
    "import numpy as np\n",
    "import matplotlib.pyplot as plt\n",
    "import scipy.linalg as LA\n",
    "from time import perf_counter as timer\n",
    "\n",
    "dimension = 4\n",
    "rng = np.random.default_rng()\n",
    "sample = 1e5\n",
    "Det = []\n",
    "\n",
    "for i in np.arange(sample):\n",
    "    M=rng.integers(0,2, (dimension,dimension))\n",
    "    detM = LA.det(M)\n",
    "    Det.append(detM)\n",
    "\n",
    "Max = max(Det)\n",
    "Min = min(Det)\n",
    "bins = np.arange(Min, Max+2)-0.5\n",
    "fig, ax = plt.subplots(1,1)\n",
    "Data, _, _=ax.hist(Det, bins, color ='purple', density=True, rwidth=0.8)\n",
    "ax.set_xlabel('Det(M)')\n",
    "ax.set_ylabel('Probability distribution')\n",
    "ax.set_xlim(Min-1, Max+1)\n",
    "ax.set_xticks(np.arange(Min,Max+1))\n",
    "plt.grid()\n",
    "plt.show()"
   ]
  },
  {
   "cell_type": "code",
   "execution_count": null,
   "id": "428c29e3",
   "metadata": {},
   "outputs": [],
   "source": []
  },
  {
   "cell_type": "code",
   "execution_count": null,
   "id": "b721ef49",
   "metadata": {},
   "outputs": [],
   "source": []
  }
 ],
 "metadata": {
  "kernelspec": {
   "display_name": "Python 3 (ipykernel)",
   "language": "python",
   "name": "python3"
  },
  "language_info": {
   "codemirror_mode": {
    "name": "ipython",
    "version": 3
   },
   "file_extension": ".py",
   "mimetype": "text/x-python",
   "name": "python",
   "nbconvert_exporter": "python",
   "pygments_lexer": "ipython3",
   "version": "3.9.7"
  }
 },
 "nbformat": 4,
 "nbformat_minor": 5
}
